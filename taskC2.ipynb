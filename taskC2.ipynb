{
 "cells": [
  {
   "cell_type": "code",
   "execution_count": null,
   "id": "9afd10d0",
   "metadata": {},
   "outputs": [],
   "source": [
    "from transformers import AutoTokenizer, AutoModelForSeq2SeqLM\n",
    "\n",
    "# Load tokenizer and models\n",
    "tokenizer_base = AutoTokenizer.from_pretrained(\"google/flan-t5-base\")\n",
    "model_base = AutoModelForSeq2SeqLM.from_pretrained(\"google/flan-t5-base\")\n",
    "\n",
    "tokenizer_large = AutoTokenizer.from_pretrained(\"google/flan-t5-large\")\n",
    "model_large = AutoModelForSeq2SeqLM.from_pretrained(\"google/flan-t5-large\")\n"
   ]
  },
  {
   "cell_type": "code",
   "execution_count": null,
   "id": "370c5554",
   "metadata": {},
   "outputs": [],
   "source": [
    "import torch\n",
    "device = torch.device('cuda' if torch.cuda.is_available() else 'cpu')\n",
    "torch.cuda.empty_cache()"
   ]
  },
  {
   "cell_type": "code",
   "execution_count": null,
   "id": "f61f05d3",
   "metadata": {},
   "outputs": [],
   "source": [
    "import pandas as pd\n",
    "import os\n",
    "MAX_TARGET_LENGTH = 8\n",
    "test_df = pd.read_csv('test.csv')"
   ]
  },
  {
   "cell_type": "code",
   "execution_count": null,
   "id": "555c81c8",
   "metadata": {},
   "outputs": [],
   "source": [
    "# Prompt Variation 1\n",
    "def prompt_v1(text):\n",
    "    return f\"Generate a title for the following article:\\n{text}\"\n",
    "\n",
    "# Prompt Variation 2\n",
    "def prompt_v2(text):\n",
    "    return f\"Write a concise headline for this news article:\\n{text}\""
   ]
  },
  {
   "cell_type": "code",
   "execution_count": null,
   "id": "96d87522",
   "metadata": {},
   "outputs": [],
   "source": [
    "\n",
    "def generate_title(prompted_texts, tokenizer, model, beam=True, batch_size=4):\n",
    "    model = model.to(device)\n",
    "    generated_titles = []\n",
    "\n",
    "    for i in range(0, len(prompted_texts), batch_size):\n",
    "        batch = prompted_texts[i:i + batch_size]\n",
    "        inputs = tokenizer(batch, return_tensors='pt', padding=True, truncation=True).to(device)\n",
    "\n",
    "        with torch.no_grad():\n",
    "            outputs = model.generate(\n",
    "                input_ids=inputs['input_ids'],\n",
    "                attention_mask=inputs['attention_mask'],\n",
    "                max_length=MAX_TARGET_LENGTH,\n",
    "                num_beams=5 if beam else 1,\n",
    "                early_stopping=True\n",
    "            )\n",
    "\n",
    "        titles = tokenizer.batch_decode(outputs, skip_special_tokens=True)\n",
    "        generated_titles.extend(titles)\n",
    "\n",
    "    return generated_titles\n",
    "\n"
   ]
  },
  {
   "cell_type": "code",
   "execution_count": null,
   "id": "d309dc6a",
   "metadata": {},
   "outputs": [],
   "source": [
    "# Prompted text lists\n",
    "test_texts = test_df[\"text\"].tolist()\n",
    "prompted_v1 = [prompt_v1(text) for text in test_texts]\n",
    "prompted_v2 = [prompt_v2(text) for text in test_texts]\n",
    "\n",
    "# Generate titles using both prompts and both models\n",
    "test_df[\"flan_base_title_v1\"] = generate_title(prompted_v1, tokenizer_base, model_base)\n",
    "test_df[\"flan_base_title_v2\"] = generate_title(prompted_v2, tokenizer_base, model_base)\n",
    "\n",
    "test_df[\"flan_large_title_v1\"] = generate_title(prompted_v1, tokenizer_large, model_large)\n",
    "test_df[\"flan_large_title_v2\"] = generate_title(prompted_v2, tokenizer_large, model_large)"
   ]
  },
  {
   "cell_type": "code",
   "execution_count": null,
   "id": "d126e06c",
   "metadata": {},
   "outputs": [],
   "source": [
    "from rouge_score import rouge_scorer\n",
    "\n",
    "def evaluate_rouge(preds, refs):\n",
    "    scorer = rouge_scorer.RougeScorer(['rouge1', 'rouge2', 'rougeL'], use_stemmer=True)\n",
    "    scores = [scorer.score(ref, pred) for ref, pred in zip(refs, preds)]\n",
    "\n",
    "    avg_rouge1 = sum([s['rouge1'].fmeasure for s in scores]) / len(scores)\n",
    "    avg_rouge2 = sum([s['rouge2'].fmeasure for s in scores]) / len(scores)\n",
    "    avg_rougeL = sum([s['rougeL'].fmeasure for s in scores]) / len(scores)\n",
    "\n",
    "    return avg_rouge1, avg_rouge2, avg_rougeL\n"
   ]
  },
  {
   "cell_type": "code",
   "execution_count": null,
   "id": "2a262541",
   "metadata": {},
   "outputs": [],
   "source": [
    "a1, a2, al = evaluate_rouge(test_df[\"flan_base_title_v1\"], test_df[\"title\"])\n",
    "b1, b2, bl = evaluate_rouge(test_df[\"flan_base_title_v2\"], test_df[\"title\"])\n",
    "c1, c2, cl = evaluate_rouge(test_df[\"flan_large_title_v1\"], test_df[\"title\"])\n",
    "d1, d2, dl = evaluate_rouge(test_df[\"flan_large_title_v2\"], test_df[\"title\"])\n",
    "print(\"Flan-T5 Base Prompt V2 - ROUGE-1:\", a1, \"ROUGE-2:\", a2, \"ROUGE-L:\",al)\n",
    "print(\"Flan-T5 Base Prompt V2 - ROUGE-1:\", b1, \"ROUGE-2:\", b2, \"ROUGE-L:\",bl)\n",
    "print(\"Flan-T5 Large Prompt V1 - ROUGE-1:\", c1, \"ROUGE-2:\", c2, \"ROUGE-L:\",cl)\n",
    "print(\"Flan-T5 Large Prompt V2 - ROUGE-1:\", d1, \"ROUGE-2:\", d2, \"ROUGE-L:\",dl)"
   ]
  }
 ],
 "metadata": {
  "kernelspec": {
   "display_name": "Python 3",
   "language": "python",
   "name": "python3"
  },
  "language_info": {
   "codemirror_mode": {
    "name": "ipython",
    "version": 3
   },
   "file_extension": ".py",
   "mimetype": "text/x-python",
   "name": "python",
   "nbconvert_exporter": "python",
   "pygments_lexer": "ipython3",
   "version": "3.12.3"
  }
 },
 "nbformat": 4,
 "nbformat_minor": 5
}
